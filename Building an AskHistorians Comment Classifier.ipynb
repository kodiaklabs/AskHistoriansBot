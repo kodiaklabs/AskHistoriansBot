{
 "cells": [
  {
   "cell_type": "markdown",
   "metadata": {},
   "source": [
    "# Building an AskHistorians Comment Classifier\n",
    "\n",
    "The subreddit r/AskHistorians is a well moderated community where users can ask questions on historical events, and hope to receive well researched, crediable answers. The moderation of this subreddit is time consuming. In this project we hope to gather data, and build a classifier, which can ingetst comments, and classify whether they are substansive or not.\n",
    "\n",
    "## Gathering the data\n",
    "\n",
    "We built a custom pipeline, where we have built a bot which monitors the r/Askhistorian subreddit for new comments. These are then checked to see if they are top level responses to questions asked, i.e., answers. If so, and are not contained in our SQLite database, they are then stored.\n",
    "\n",
    "Stored comments are checked (a)periodically to see if they have been removed. If comments are not removed after a certain length of time, we can assume that they are substansive, otherwise, they are not. This process is whereby the moderators of the subreddit handlabel data for use to build the classifier. This database of comments forms this dataset.\n",
    "\n",
    "## The classifier\n",
    "\n",
    "In this notebook we hope to capture the essence of certain comments to build a classifier described above. The dataset used to build and train the classifier, will grow daily.\n",
    "\n",
    "To train the classifier, we have to engage in a fair amount of feature engineering, which requires some domain knowledge. To give you the gist of what is happening, most questions, and answers are wide and varied, but do fall into rough groups. We assume that the correlation between the content (i.e., the words) of the answer and the solution are not the best features to classify the comments (this can/will be investigated further). Rather, from reading numerous responses, and qualitatively inspecting the dataset, we see some patterns revealing themselves, with respect to the metadata of the answers. For example, substansive comments/answers are:\n",
    "\n",
    "- long\n",
    "- use long words\n",
    "- contain many quotes\n",
    "- contain several reddit and other URLs\n",
    "- use a lot of bold and italic phrases\n",
    "- are usually by flaired users or moderators\n",
    "\n",
    "Unsubstansive comments tend not to follow these trends. Therefore, we hope to distill these patterns into features, described below.\n",
    "\n",
    "Let us begin."
   ]
  },
  {
   "cell_type": "code",
   "execution_count": 1,
   "metadata": {},
   "outputs": [],
   "source": [
    "import numpy as np\n",
    "import pandas as pd\n",
    "import sqlite3\n",
    "\n",
    "import matplotlib.pyplot as plt\n",
    "import seaborn as sns\n",
    "%matplotlib inline"
   ]
  },
  {
   "cell_type": "code",
   "execution_count": 2,
   "metadata": {},
   "outputs": [],
   "source": [
    "conn = sqlite3.connect(\"AskHistoriansComments.db\")\n",
    "df = pd.read_sql_query(\"select * from Comments;\", conn, parse_dates=['CreationTime', 'LastChecked'])\n",
    "conn.close()"
   ]
  },
  {
   "cell_type": "code",
   "execution_count": 3,
   "metadata": {},
   "outputs": [
    {
     "data": {
      "text/html": [
       "<div>\n",
       "<style scoped>\n",
       "    .dataframe tbody tr th:only-of-type {\n",
       "        vertical-align: middle;\n",
       "    }\n",
       "\n",
       "    .dataframe tbody tr th {\n",
       "        vertical-align: top;\n",
       "    }\n",
       "\n",
       "    .dataframe thead th {\n",
       "        text-align: right;\n",
       "    }\n",
       "</style>\n",
       "<table border=\"1\" class=\"dataframe\">\n",
       "  <thead>\n",
       "    <tr style=\"text-align: right;\">\n",
       "      <th></th>\n",
       "      <th>CommentID</th>\n",
       "      <th>Author</th>\n",
       "      <th>CreationTime</th>\n",
       "      <th>CommentText</th>\n",
       "      <th>CommentPerma</th>\n",
       "      <th>Removed</th>\n",
       "      <th>LastChecked</th>\n",
       "    </tr>\n",
       "  </thead>\n",
       "  <tbody>\n",
       "    <tr>\n",
       "      <th>0</th>\n",
       "      <td>dw5nx8r</td>\n",
       "      <td>cnzmur</td>\n",
       "      <td>2018-03-23 12:48:43</td>\n",
       "      <td>Well obviously it would depend on exactly how ...</td>\n",
       "      <td>/r/AskHistorians/comments/86gexs/in_ancient_co...</td>\n",
       "      <td>0</td>\n",
       "      <td>2018-09-11 09:27:54</td>\n",
       "    </tr>\n",
       "    <tr>\n",
       "      <th>1</th>\n",
       "      <td>dw5nont</td>\n",
       "      <td>starkimarki</td>\n",
       "      <td>2018-03-23 12:43:30</td>\n",
       "      <td>Henry VII had a great deal to gain by their de...</td>\n",
       "      <td>/r/AskHistorians/comments/86jdla/was_the_backl...</td>\n",
       "      <td>1</td>\n",
       "      <td>2018-04-13 10:03:01</td>\n",
       "    </tr>\n",
       "    <tr>\n",
       "      <th>2</th>\n",
       "      <td>dw5n44w</td>\n",
       "      <td>015181510</td>\n",
       "      <td>2018-03-23 12:30:41</td>\n",
       "      <td>So this has been a while, and I'm going to go ...</td>\n",
       "      <td>/r/AskHistorians/comments/843ubu/why_didnt_the...</td>\n",
       "      <td>0</td>\n",
       "      <td>2018-09-11 09:27:54</td>\n",
       "    </tr>\n",
       "    <tr>\n",
       "      <th>3</th>\n",
       "      <td>dw5mo6p</td>\n",
       "      <td>wowbuggertheinfinite</td>\n",
       "      <td>2018-03-23 12:20:20</td>\n",
       "      <td>In order to properly answer your question I wi...</td>\n",
       "      <td>/r/AskHistorians/comments/86gf4f/before_mary_i...</td>\n",
       "      <td>0</td>\n",
       "      <td>2018-09-11 09:27:55</td>\n",
       "    </tr>\n",
       "    <tr>\n",
       "      <th>4</th>\n",
       "      <td>dw5mgo0</td>\n",
       "      <td>Bernardito</td>\n",
       "      <td>2018-03-23 12:15:14</td>\n",
       "      <td>Hi there! Unfortunately, this is not an approp...</td>\n",
       "      <td>/r/AskHistorians/comments/86k4f1/if_you_got_se...</td>\n",
       "      <td>0</td>\n",
       "      <td>2018-09-11 09:27:55</td>\n",
       "    </tr>\n",
       "  </tbody>\n",
       "</table>\n",
       "</div>"
      ],
      "text/plain": [
       "  CommentID                Author        CreationTime  \\\n",
       "0   dw5nx8r                cnzmur 2018-03-23 12:48:43   \n",
       "1   dw5nont           starkimarki 2018-03-23 12:43:30   \n",
       "2   dw5n44w             015181510 2018-03-23 12:30:41   \n",
       "3   dw5mo6p  wowbuggertheinfinite 2018-03-23 12:20:20   \n",
       "4   dw5mgo0            Bernardito 2018-03-23 12:15:14   \n",
       "\n",
       "                                         CommentText  \\\n",
       "0  Well obviously it would depend on exactly how ...   \n",
       "1  Henry VII had a great deal to gain by their de...   \n",
       "2  So this has been a while, and I'm going to go ...   \n",
       "3  In order to properly answer your question I wi...   \n",
       "4  Hi there! Unfortunately, this is not an approp...   \n",
       "\n",
       "                                        CommentPerma  Removed  \\\n",
       "0  /r/AskHistorians/comments/86gexs/in_ancient_co...        0   \n",
       "1  /r/AskHistorians/comments/86jdla/was_the_backl...        1   \n",
       "2  /r/AskHistorians/comments/843ubu/why_didnt_the...        0   \n",
       "3  /r/AskHistorians/comments/86gf4f/before_mary_i...        0   \n",
       "4  /r/AskHistorians/comments/86k4f1/if_you_got_se...        0   \n",
       "\n",
       "          LastChecked  \n",
       "0 2018-09-11 09:27:54  \n",
       "1 2018-04-13 10:03:01  \n",
       "2 2018-09-11 09:27:54  \n",
       "3 2018-09-11 09:27:55  \n",
       "4 2018-09-11 09:27:55  "
      ]
     },
     "execution_count": 3,
     "metadata": {},
     "output_type": "execute_result"
    }
   ],
   "source": [
    "df.head()"
   ]
  },
  {
   "cell_type": "code",
   "execution_count": 4,
   "metadata": {},
   "outputs": [
    {
     "name": "stdout",
     "output_type": "stream",
     "text": [
      "2549\n",
      "2548\n"
     ]
    }
   ],
   "source": [
    "# dropping the rows for which Removed=-1\n",
    "print(len(df.index))\n",
    "df = df[df['Removed'] != -1]\n",
    "print(len(df.index))"
   ]
  },
  {
   "cell_type": "code",
   "execution_count": 5,
   "metadata": {},
   "outputs": [
    {
     "name": "stdout",
     "output_type": "stream",
     "text": [
      "[(0, 2366), (1, 182)]\n"
     ]
    }
   ],
   "source": [
    "from collections import Counter\n",
    "c = Counter(df.Removed.tolist())\n",
    "labels = c.most_common()\n",
    "print(labels)"
   ]
  },
  {
   "cell_type": "code",
   "execution_count": 6,
   "metadata": {},
   "outputs": [
    {
     "data": {
      "text/plain": [
       "Text(0.5,0,'Removed [0: False, 1: True]')"
      ]
     },
     "execution_count": 6,
     "metadata": {},
     "output_type": "execute_result"
    },
    {
     "data": {
      "image/png": "[encoded data removed]",
      "text/plain": [
       "<Figure size 432x288 with 1 Axes>"
      ]
     },
     "metadata": {},
     "output_type": "display_data"
    }
   ],
   "source": [
    "# Center the data to make it diverging\n",
    "total_comments = float(len(df.index))\n",
    "x = [val[0] for val in labels]\n",
    "y = [val[1] / total_comments for val in labels]\n",
    "ax = sns.barplot(x=x, y=y, palette=\"vlag\")\n",
    "ax.axhline(0, color=\"k\", clip_on=False)\n",
    "ax.set_ylabel(\"Percentage of total comments\")\n",
    "ax.set_xlabel(\"Removed [0: False, 1: True]\")"
   ]
  },
  {
   "cell_type": "markdown",
   "metadata": {},
   "source": [
    "Here we see the classic case of an imbalanced dataset. To make sure we are accounting for the imbalance, we will use the ROC AUC metric."
   ]
  },
  {
   "cell_type": "code",
   "execution_count": 7,
   "metadata": {},
   "outputs": [],
   "source": [
    "# split from training and test set\n",
    "from sklearn.model_selection import train_test_split\n",
    "df_train, df_test = train_test_split(df, test_size=0.3, stratify=df.Removed, random_state=42)"
   ]
  },
  {
   "cell_type": "markdown",
   "metadata": {
    "collapsed": true
   },
   "source": [
    "## Feature Engineering of the Metadata\n",
    "Now that we have he data in the correct form, we can begin to implement our classifier, based on the text's metadata.\n"
   ]
  },
  {
   "cell_type": "code",
   "execution_count": 8,
   "metadata": {},
   "outputs": [],
   "source": [
    "pd.options.mode.chained_assignment = None  # default='warn'\n",
    "\n",
    "mod_list = list(pd.read_csv('mods.csv')['Mods'].values)\n",
    "flaired_list = list(pd.read_csv('Flaired.csv')['FlairedUsers'].values)\n",
    "\n",
    "def is_mod(user_name):\n",
    "    mod = 0\n",
    "    if user_name in mod_list:\n",
    "        mod = 1\n",
    "    return mod\n",
    "df_train['IsMod'] = df_train['Author'].apply(lambda x: is_mod(x))\n",
    "df_test['IsMod'] = df_test['Author'].apply(lambda x: is_mod(x))\n",
    "\n",
    "def is_flaired(user_name):\n",
    "    flaired = 0\n",
    "    if user_name in flaired_list:\n",
    "        flaired = 1\n",
    "    return flaired\n",
    "df_train['IsFlaired'] = df_train['Author'].apply(lambda x: is_flaired(x))\n",
    "df_test['IsFlaired'] = df_test['Author'].apply(lambda x: is_flaired(x))\n",
    "\n"
   ]
  },
  {
   "cell_type": "markdown",
   "metadata": {},
   "source": [
    "Here we apply feature engineering to the metadata of the posts. These features were gained through domain knowledge, by extensively reading r/AskHistorians, and also qualitatively viewing random samples of each class once they were residing in the database."
   ]
  },
  {
   "cell_type": "code",
   "execution_count": 9,
   "metadata": {},
   "outputs": [],
   "source": [
    "from ClassifierUtils import *\n",
    "\n",
    "df_train['PostLen'] = df_train['CommentText'].apply(lambda x: post_length(x))\n",
    "df_test['PostLen'] = df_test['CommentText'].apply(lambda x: post_length(x))\n",
    "\n",
    "\n",
    "df_train['UrlNum'] = df_train['CommentText'].apply(lambda x: url_num(x))\n",
    "df_test['UrlNum'] = df_test['CommentText'].apply(lambda x: url_num(x))\n",
    "\n",
    "\n",
    "df_train['RedditUrls'] = df_train['CommentText'].apply(lambda x: reddit_urls(x))\n",
    "df_test['RedditUrls'] = df_test['CommentText'].apply(lambda x: reddit_urls(x))\n",
    "\n",
    "\n",
    "df_train['NewLineNum'] = df_train['CommentText'].apply(lambda x: new_lines(x))\n",
    "df_test['NewLineNum'] = df_test['CommentText'].apply(lambda x: new_lines(x))\n",
    "\n",
    "df_train['AveWordLen'] = df_train['CommentText'].apply(lambda x: ave_word_len(x))\n",
    "df_test['AveWordLen'] = df_test['CommentText'].apply(lambda x: ave_word_len(x))\n",
    "\n",
    "df_train['MedianWordLen'] = df_train['CommentText'].apply(lambda x: med_word_len(x))\n",
    "df_test['MedianWordLen'] = df_test['CommentText'].apply(lambda x: med_word_len(x))\n",
    "\n",
    "\n",
    "df_train['BoldPhrases'] = df_train['CommentText'].apply(lambda x: bold_phrases(x))\n",
    "df_test['BoldPhrases'] = df_test['CommentText'].apply(lambda x: bold_phrases(x))\n",
    "\n",
    "\n",
    "df_train['ItalicPhrases'] = df_train['CommentText'].apply(lambda x: italic_phrases(x))\n",
    "df_test['ItalicPhrases'] = df_test['CommentText'].apply(lambda x: italic_phrases(x))\n",
    "\n",
    "\n",
    "df_train['Quotes'] = df_train['CommentText'].apply(lambda x: quotes(x))\n",
    "df_test['Quotes'] = df_test['CommentText'].apply(lambda x: quotes(x))"
   ]
  },
  {
   "cell_type": "code",
   "execution_count": 10,
   "metadata": {},
   "outputs": [
    {
     "data": {
      "text/html": [
       "<div>\n",
       "<style scoped>\n",
       "    .dataframe tbody tr th:only-of-type {\n",
       "        vertical-align: middle;\n",
       "    }\n",
       "\n",
       "    .dataframe tbody tr th {\n",
       "        vertical-align: top;\n",
       "    }\n",
       "\n",
       "    .dataframe thead th {\n",
       "        text-align: right;\n",
       "    }\n",
       "</style>\n",
       "<table border=\"1\" class=\"dataframe\">\n",
       "  <thead>\n",
       "    <tr style=\"text-align: right;\">\n",
       "      <th></th>\n",
       "      <th>CommentID</th>\n",
       "      <th>Author</th>\n",
       "      <th>CreationTime</th>\n",
       "      <th>CommentText</th>\n",
       "      <th>CommentPerma</th>\n",
       "      <th>Removed</th>\n",
       "      <th>LastChecked</th>\n",
       "      <th>IsMod</th>\n",
       "      <th>IsFlaired</th>\n",
       "      <th>PostLen</th>\n",
       "      <th>UrlNum</th>\n",
       "      <th>RedditUrls</th>\n",
       "      <th>NewLineNum</th>\n",
       "      <th>AveWordLen</th>\n",
       "      <th>MedianWordLen</th>\n",
       "      <th>BoldPhrases</th>\n",
       "      <th>ItalicPhrases</th>\n",
       "      <th>Quotes</th>\n",
       "    </tr>\n",
       "  </thead>\n",
       "  <tbody>\n",
       "    <tr>\n",
       "      <th>2016</th>\n",
       "      <td>e5naxso</td>\n",
       "      <td>sunagainstgold</td>\n",
       "      <td>2018-09-09 03:24:37</td>\n",
       "      <td>I'm sorry, but we don't allow 'First'/'Last' q...</td>\n",
       "      <td>/r/AskHistorians/comments/9ea0lj/what_was_the_...</td>\n",
       "      <td>0</td>\n",
       "      <td>2018-09-11 09:34:42</td>\n",
       "      <td>1</td>\n",
       "      <td>1</td>\n",
       "      <td>1370</td>\n",
       "      <td>0</td>\n",
       "      <td>0</td>\n",
       "      <td>10</td>\n",
       "      <td>5.567308</td>\n",
       "      <td>4.0</td>\n",
       "      <td>0</td>\n",
       "      <td>2</td>\n",
       "      <td>0</td>\n",
       "    </tr>\n",
       "    <tr>\n",
       "      <th>660</th>\n",
       "      <td>dxancaf</td>\n",
       "      <td>henry_fords_ghost</td>\n",
       "      <td>2018-04-13 12:19:54</td>\n",
       "      <td>I think it’s going to be hard to pin down an e...</td>\n",
       "      <td>/r/AskHistorians/comments/8bveub/with_the_crea...</td>\n",
       "      <td>0</td>\n",
       "      <td>2018-09-11 09:30:13</td>\n",
       "      <td>1</td>\n",
       "      <td>1</td>\n",
       "      <td>2331</td>\n",
       "      <td>1</td>\n",
       "      <td>1</td>\n",
       "      <td>5</td>\n",
       "      <td>5.452778</td>\n",
       "      <td>5.0</td>\n",
       "      <td>0</td>\n",
       "      <td>2</td>\n",
       "      <td>0</td>\n",
       "    </tr>\n",
       "    <tr>\n",
       "      <th>435</th>\n",
       "      <td>dx5vypt</td>\n",
       "      <td>hillsonghoods</td>\n",
       "      <td>2018-04-11 02:08:37</td>\n",
       "      <td>This submission has been removed because it in...</td>\n",
       "      <td>/r/AskHistorians/comments/8bcy7t/when_did_supr...</td>\n",
       "      <td>0</td>\n",
       "      <td>2018-09-11 09:29:25</td>\n",
       "      <td>1</td>\n",
       "      <td>1</td>\n",
       "      <td>789</td>\n",
       "      <td>2</td>\n",
       "      <td>2</td>\n",
       "      <td>2</td>\n",
       "      <td>7.284211</td>\n",
       "      <td>5.0</td>\n",
       "      <td>0</td>\n",
       "      <td>0</td>\n",
       "      <td>0</td>\n",
       "    </tr>\n",
       "    <tr>\n",
       "      <th>634</th>\n",
       "      <td>dxazkgf</td>\n",
       "      <td>Bigglesworth_</td>\n",
       "      <td>2018-04-13 15:45:05</td>\n",
       "      <td>Despite the potential significance of the Batt...</td>\n",
       "      <td>/r/AskHistorians/comments/8bw6tt/the_raf_playe...</td>\n",
       "      <td>0</td>\n",
       "      <td>2018-09-11 09:30:07</td>\n",
       "      <td>0</td>\n",
       "      <td>1</td>\n",
       "      <td>4244</td>\n",
       "      <td>2</td>\n",
       "      <td>0</td>\n",
       "      <td>10</td>\n",
       "      <td>5.765176</td>\n",
       "      <td>5.0</td>\n",
       "      <td>0</td>\n",
       "      <td>8</td>\n",
       "      <td>0</td>\n",
       "    </tr>\n",
       "    <tr>\n",
       "      <th>1144</th>\n",
       "      <td>e54za50</td>\n",
       "      <td>EnclavedMicrostate</td>\n",
       "      <td>2018-08-31 04:06:14</td>\n",
       "      <td>Is there a consensus on whether it was volunta...</td>\n",
       "      <td>/r/AskHistorians/comments/9b9kp5/short_answers...</td>\n",
       "      <td>0</td>\n",
       "      <td>2018-09-11 09:31:45</td>\n",
       "      <td>0</td>\n",
       "      <td>1</td>\n",
       "      <td>391</td>\n",
       "      <td>0</td>\n",
       "      <td>0</td>\n",
       "      <td>0</td>\n",
       "      <td>4.764706</td>\n",
       "      <td>4.0</td>\n",
       "      <td>0</td>\n",
       "      <td>0</td>\n",
       "      <td>0</td>\n",
       "    </tr>\n",
       "    <tr>\n",
       "      <th>871</th>\n",
       "      <td>e5214zo</td>\n",
       "      <td>Steelcan909</td>\n",
       "      <td>2018-08-29 20:16:10</td>\n",
       "      <td>Yes.  Christianity was non-negotiable in Anglo...</td>\n",
       "      <td>/r/AskHistorians/comments/9bbwzn/during_the_an...</td>\n",
       "      <td>0</td>\n",
       "      <td>2018-09-11 09:30:51</td>\n",
       "      <td>0</td>\n",
       "      <td>1</td>\n",
       "      <td>3400</td>\n",
       "      <td>0</td>\n",
       "      <td>0</td>\n",
       "      <td>7</td>\n",
       "      <td>5.026786</td>\n",
       "      <td>4.0</td>\n",
       "      <td>0</td>\n",
       "      <td>0</td>\n",
       "      <td>0</td>\n",
       "    </tr>\n",
       "    <tr>\n",
       "      <th>2114</th>\n",
       "      <td>e5lknad</td>\n",
       "      <td>Mortalpuncher</td>\n",
       "      <td>2018-09-08 05:45:57</td>\n",
       "      <td>So when was it legally and socially accepted f...</td>\n",
       "      <td>/r/AskHistorians/comments/9d6v1x/short_answers...</td>\n",
       "      <td>0</td>\n",
       "      <td>2018-09-11 09:35:05</td>\n",
       "      <td>0</td>\n",
       "      <td>0</td>\n",
       "      <td>88</td>\n",
       "      <td>0</td>\n",
       "      <td>0</td>\n",
       "      <td>0</td>\n",
       "      <td>4.235294</td>\n",
       "      <td>4.0</td>\n",
       "      <td>0</td>\n",
       "      <td>0</td>\n",
       "      <td>0</td>\n",
       "    </tr>\n",
       "    <tr>\n",
       "      <th>324</th>\n",
       "      <td>dx7q2xy</td>\n",
       "      <td>Iphikrates</td>\n",
       "      <td>2018-04-11 23:46:23</td>\n",
       "      <td>Sorry, I've removed this question because it d...</td>\n",
       "      <td>/r/AskHistorians/comments/8blpy8/how_do_museum...</td>\n",
       "      <td>0</td>\n",
       "      <td>2018-09-11 09:29:02</td>\n",
       "      <td>1</td>\n",
       "      <td>1</td>\n",
       "      <td>130</td>\n",
       "      <td>0</td>\n",
       "      <td>0</td>\n",
       "      <td>0</td>\n",
       "      <td>4.954545</td>\n",
       "      <td>4.0</td>\n",
       "      <td>0</td>\n",
       "      <td>0</td>\n",
       "      <td>0</td>\n",
       "    </tr>\n",
       "    <tr>\n",
       "      <th>859</th>\n",
       "      <td>e527g4z</td>\n",
       "      <td>ionaspike</td>\n",
       "      <td>2018-08-29 21:43:53</td>\n",
       "      <td>the best way to answer this question is to rec...</td>\n",
       "      <td>/r/AskHistorians/comments/9ayte9/how_would_the...</td>\n",
       "      <td>1</td>\n",
       "      <td>2018-09-02 19:03:17</td>\n",
       "      <td>0</td>\n",
       "      <td>0</td>\n",
       "      <td>847</td>\n",
       "      <td>0</td>\n",
       "      <td>0</td>\n",
       "      <td>2</td>\n",
       "      <td>5.137681</td>\n",
       "      <td>4.0</td>\n",
       "      <td>0</td>\n",
       "      <td>0</td>\n",
       "      <td>0</td>\n",
       "    </tr>\n",
       "    <tr>\n",
       "      <th>730</th>\n",
       "      <td>dxdefr8</td>\n",
       "      <td>wotan_weevil</td>\n",
       "      <td>2018-04-14 21:41:42</td>\n",
       "      <td>Hilbert was very close. Close is not at all in...</td>\n",
       "      <td>/r/AskHistorians/comments/8c3hjj/how_far_was_h...</td>\n",
       "      <td>1</td>\n",
       "      <td>2018-04-15 10:46:13</td>\n",
       "      <td>0</td>\n",
       "      <td>0</td>\n",
       "      <td>971</td>\n",
       "      <td>0</td>\n",
       "      <td>0</td>\n",
       "      <td>6</td>\n",
       "      <td>5.211538</td>\n",
       "      <td>4.0</td>\n",
       "      <td>0</td>\n",
       "      <td>0</td>\n",
       "      <td>0</td>\n",
       "    </tr>\n",
       "  </tbody>\n",
       "</table>\n",
       "</div>"
      ],
      "text/plain": [
       "     CommentID              Author        CreationTime  \\\n",
       "2016   e5naxso      sunagainstgold 2018-09-09 03:24:37   \n",
       "660    dxancaf   henry_fords_ghost 2018-04-13 12:19:54   \n",
       "435    dx5vypt       hillsonghoods 2018-04-11 02:08:37   \n",
       "634    dxazkgf       Bigglesworth_ 2018-04-13 15:45:05   \n",
       "1144   e54za50  EnclavedMicrostate 2018-08-31 04:06:14   \n",
       "871    e5214zo         Steelcan909 2018-08-29 20:16:10   \n",
       "2114   e5lknad       Mortalpuncher 2018-09-08 05:45:57   \n",
       "324    dx7q2xy          Iphikrates 2018-04-11 23:46:23   \n",
       "859    e527g4z           ionaspike 2018-08-29 21:43:53   \n",
       "730    dxdefr8        wotan_weevil 2018-04-14 21:41:42   \n",
       "\n",
       "                                            CommentText  \\\n",
       "2016  I'm sorry, but we don't allow 'First'/'Last' q...   \n",
       "660   I think it’s going to be hard to pin down an e...   \n",
       "435   This submission has been removed because it in...   \n",
       "634   Despite the potential significance of the Batt...   \n",
       "1144  Is there a consensus on whether it was volunta...   \n",
       "871   Yes.  Christianity was non-negotiable in Anglo...   \n",
       "2114  So when was it legally and socially accepted f...   \n",
       "324   Sorry, I've removed this question because it d...   \n",
       "859   the best way to answer this question is to rec...   \n",
       "730   Hilbert was very close. Close is not at all in...   \n",
       "\n",
       "                                           CommentPerma  Removed  \\\n",
       "2016  /r/AskHistorians/comments/9ea0lj/what_was_the_...        0   \n",
       "660   /r/AskHistorians/comments/8bveub/with_the_crea...        0   \n",
       "435   /r/AskHistorians/comments/8bcy7t/when_did_supr...        0   \n",
       "634   /r/AskHistorians/comments/8bw6tt/the_raf_playe...        0   \n",
       "1144  /r/AskHistorians/comments/9b9kp5/short_answers...        0   \n",
       "871   /r/AskHistorians/comments/9bbwzn/during_the_an...        0   \n",
       "2114  /r/AskHistorians/comments/9d6v1x/short_answers...        0   \n",
       "324   /r/AskHistorians/comments/8blpy8/how_do_museum...        0   \n",
       "859   /r/AskHistorians/comments/9ayte9/how_would_the...        1   \n",
       "730   /r/AskHistorians/comments/8c3hjj/how_far_was_h...        1   \n",
       "\n",
       "             LastChecked  IsMod  IsFlaired  PostLen  UrlNum  RedditUrls  \\\n",
       "2016 2018-09-11 09:34:42      1          1     1370       0           0   \n",
       "660  2018-09-11 09:30:13      1          1     2331       1           1   \n",
       "435  2018-09-11 09:29:25      1          1      789       2           2   \n",
       "634  2018-09-11 09:30:07      0          1     4244       2           0   \n",
       "1144 2018-09-11 09:31:45      0          1      391       0           0   \n",
       "871  2018-09-11 09:30:51      0          1     3400       0           0   \n",
       "2114 2018-09-11 09:35:05      0          0       88       0           0   \n",
       "324  2018-09-11 09:29:02      1          1      130       0           0   \n",
       "859  2018-09-02 19:03:17      0          0      847       0           0   \n",
       "730  2018-04-15 10:46:13      0          0      971       0           0   \n",
       "\n",
       "      NewLineNum  AveWordLen  MedianWordLen  BoldPhrases  ItalicPhrases  \\\n",
       "2016          10    5.567308            4.0            0              2   \n",
       "660            5    5.452778            5.0            0              2   \n",
       "435            2    7.284211            5.0            0              0   \n",
       "634           10    5.765176            5.0            0              8   \n",
       "1144           0    4.764706            4.0            0              0   \n",
       "871            7    5.026786            4.0            0              0   \n",
       "2114           0    4.235294            4.0            0              0   \n",
       "324            0    4.954545            4.0            0              0   \n",
       "859            2    5.137681            4.0            0              0   \n",
       "730            6    5.211538            4.0            0              0   \n",
       "\n",
       "      Quotes  \n",
       "2016       0  \n",
       "660        0  \n",
       "435        0  \n",
       "634        0  \n",
       "1144       0  \n",
       "871        0  \n",
       "2114       0  \n",
       "324        0  \n",
       "859        0  \n",
       "730        0  "
      ]
     },
     "execution_count": 10,
     "metadata": {},
     "output_type": "execute_result"
    }
   ],
   "source": [
    "df_train.head(10)"
   ]
  },
  {
   "cell_type": "code",
   "execution_count": 11,
   "metadata": {},
   "outputs": [],
   "source": [
    "cols = ['IsMod', 'IsFlaired', 'PostLen', 'UrlNum', 'RedditUrls', 'NewLineNum', 'AveWordLen', 'MedianWordLen', 'BoldPhrases',\n",
    "        'ItalicPhrases', 'Quotes']\n",
    "X_train = df_train[cols].values\n",
    "y_train = df_train['Removed'].values"
   ]
  },
  {
   "cell_type": "code",
   "execution_count": 12,
   "metadata": {},
   "outputs": [],
   "source": [
    "from sklearn.pipeline import Pipeline\n",
    "from sklearn.externals import joblib\n",
    "from sklearn.model_selection import RandomizedSearchCV\n",
    "import time\n",
    "\n",
    "def random_tuner(X, y, pipeline, parameters, n_iter_search, clf_output_name, verbose=True):\n",
    "    \"\"\"\n",
    "    Takes in training and test data along with a pipeline (including a classifier).\n",
    "    Hypertunes the classifier via random parameter space search, trying n_iter_search\n",
    "    parameter combinations.\n",
    "    \"\"\"\n",
    "    classifier = RandomizedSearchCV(pipeline, param_distributions=parameters,\n",
    "                                    n_jobs=-1, cv=5, n_iter=n_iter_search, verbose=1, scoring='roc_auc')\n",
    "    classifier.fit(X, y)\n",
    "    if verbose:\n",
    "        print(\"Best score: %0.3f\" % classifier.best_score_)\n",
    "        print(\"Best parameters set:\")\n",
    "        classifier_best_parameters = classifier.best_estimator_.get_params()\n",
    "        for param_name in sorted(parameters.keys()):\n",
    "            print(\"\\t%s: %r\" % (param_name, classifier_best_parameters[param_name]))\n",
    "\n",
    "    joblib.dump(classifier.best_estimator_, clf_output_name, compress=9)\n",
    "    print('Classifier saved to: ', clf_output_name)\n",
    "    return classifier"
   ]
  },
  {
   "cell_type": "code",
   "execution_count": 13,
   "metadata": {},
   "outputs": [
    {
     "name": "stdout",
     "output_type": "stream",
     "text": [
      "Fitting 5 folds for each of 96 candidates, totalling 480 fits\n",
      "Best score: 0.771\n",
      "Best parameters set:\n",
      "\tclf__C: 0.1\n",
      "\tclf__class_weight: 'balanced'\n",
      "\tclf__fit_intercept: False\n",
      "\tclf__penalty: 'l1'\n",
      "\tclf__warm_start: True\n",
      "Classifier saved to:  ./LogReg_clf.pkl\n"
     ]
    },
    {
     "name": "stderr",
     "output_type": "stream",
     "text": [
      "[Parallel(n_jobs=-1)]: Done 480 out of 480 | elapsed:    1.9s finished\n"
     ]
    }
   ],
   "source": [
    "from sklearn.linear_model import LogisticRegression\n",
    "\n",
    "logreg_pipeline = Pipeline([\n",
    "        ('clf', LogisticRegression(max_iter=1e4))\n",
    "    ])\n",
    "\n",
    "logreg_parameters = {\n",
    "    'clf__penalty': ('l2', 'l1'),\n",
    "    'clf__class_weight': (None, 'balanced'),\n",
    "    'clf__C': (1e-3, 1e-2, 0.1, 1.0, 10.0, 100.0),\n",
    "    'clf__warm_start': (True, False),\n",
    "    'clf__fit_intercept': (True, False)\n",
    "}\n",
    "\n",
    "n_iter_search = 96\n",
    "\n",
    "clf_output_name = './LogReg_clf.pkl'\n",
    "logreg_classifier = random_tuner(X_train , y_train, logreg_pipeline, logreg_parameters, n_iter_search,\n",
    "               clf_output_name, verbose=True)"
   ]
  },
  {
   "cell_type": "code",
   "execution_count": 14,
   "metadata": {},
   "outputs": [],
   "source": [
    "X_test = df_train[cols].values\n",
    "y_test = df_train['Removed'].values"
   ]
  },
  {
   "cell_type": "code",
   "execution_count": 15,
   "metadata": {},
   "outputs": [],
   "source": [
    "from sklearn.metrics import roc_auc_score\n",
    "\n",
    "def get_roc_auc(clf, X_test, y_test):\n",
    "    y_preds = [val[1] for val in clf.predict_proba(X_test)]\n",
    "    return roc_auc_score(y_test, y_preds)"
   ]
  },
  {
   "cell_type": "code",
   "execution_count": 16,
   "metadata": {},
   "outputs": [
    {
     "data": {
      "text/plain": [
       "0.7992458823081897"
      ]
     },
     "execution_count": 16,
     "metadata": {},
     "output_type": "execute_result"
    }
   ],
   "source": [
    "get_roc_auc(logreg_classifier.best_estimator_, X_test, y_test)"
   ]
  },
  {
   "cell_type": "code",
   "execution_count": 17,
   "metadata": {},
   "outputs": [
    {
     "name": "stdout",
     "output_type": "stream",
     "text": [
      "Fitting 5 folds for each of 160 candidates, totalling 800 fits\n"
     ]
    },
    {
     "name": "stderr",
     "output_type": "stream",
     "text": [
      "/usr/local/lib/python3.7/site-packages/sklearn/ensemble/weight_boosting.py:29: DeprecationWarning: numpy.core.umath_tests is an internal NumPy module and should not be imported. It will be removed in a future NumPy release.\n",
      "  from numpy.core.umath_tests import inner1d\n",
      "[Parallel(n_jobs=-1)]: Done 114 tasks      | elapsed:   10.7s\n",
      "[Parallel(n_jobs=-1)]: Done 264 tasks      | elapsed:   27.9s\n",
      "[Parallel(n_jobs=-1)]: Done 514 tasks      | elapsed:   57.8s\n",
      "[Parallel(n_jobs=-1)]: Done 800 out of 800 | elapsed:  1.6min finished\n"
     ]
    },
    {
     "name": "stdout",
     "output_type": "stream",
     "text": [
      "Best score: 0.805\n",
      "Best parameters set:\n",
      "\tclf__class_weight: 'balanced'\n",
      "\tclf__max_depth: 5\n",
      "\tclf__max_features: 'auto'\n",
      "\tclf__n_estimators: 200\n",
      "Classifier saved to:  ./RandForest_clf.pkl\n"
     ]
    }
   ],
   "source": [
    "from sklearn.ensemble import RandomForestClassifier\n",
    "\n",
    "rf_pipeline = Pipeline([\n",
    "        ('clf', RandomForestClassifier())\n",
    "    ])\n",
    "\n",
    "rf_parameters = {\n",
    "    'clf__max_depth': [2, 5, 10, None],\n",
    "    'clf__n_estimators': [10, 20, 100, 150, 200],\n",
    "    'clf__max_features': [None, 'auto', 'sqrt', 'log2'],\n",
    "    'clf__class_weight': [None, 'balanced']\n",
    "}\n",
    "\n",
    "n_iter_search = 160\n",
    "\n",
    "clf_output_name = './RandForest_clf.pkl'\n",
    "rf_classifier = random_tuner(X_train , y_train, rf_pipeline, rf_parameters, n_iter_search,\n",
    "               clf_output_name, verbose=True)\n"
   ]
  },
  {
   "cell_type": "code",
   "execution_count": 18,
   "metadata": {},
   "outputs": [
    {
     "data": {
      "text/plain": [
       "0.8601839172277378"
      ]
     },
     "execution_count": 18,
     "metadata": {},
     "output_type": "execute_result"
    }
   ],
   "source": [
    "get_roc_auc(rf_classifier.best_estimator_, X_test, y_test)"
   ]
  },
  {
   "cell_type": "code",
   "execution_count": 19,
   "metadata": {},
   "outputs": [
    {
     "name": "stdout",
     "output_type": "stream",
     "text": [
      "Fitting 5 folds for each of 300 candidates, totalling 1500 fits\n"
     ]
    },
    {
     "name": "stderr",
     "output_type": "stream",
     "text": [
      "[Parallel(n_jobs=-1)]: Done 144 tasks      | elapsed:    3.6s\n",
      "[Parallel(n_jobs=-1)]: Done 744 tasks      | elapsed:   24.6s\n"
     ]
    },
    {
     "name": "stdout",
     "output_type": "stream",
     "text": [
      "Best score: 0.793\n",
      "Best parameters set:\n",
      "\tclf__colsample_bytree: 1.0\n",
      "\tclf__learning_rate: 0.2\n",
      "\tclf__max_depth: 2\n",
      "\tclf__n_estimators: 20\n",
      "\tclf__subsample: 1.0\n",
      "Classifier saved to:  ./XGBoost_clf.pkl\n"
     ]
    },
    {
     "name": "stderr",
     "output_type": "stream",
     "text": [
      "[Parallel(n_jobs=-1)]: Done 1500 out of 1500 | elapsed:   47.9s finished\n"
     ]
    }
   ],
   "source": [
    "from xgboost import XGBClassifier\n",
    "xg_pipeline = Pipeline([\n",
    "        ('clf', XGBClassifier())\n",
    "    ])\n",
    "\n",
    "xg_parameters = {\n",
    "    'clf__learning_rate': [0.001, 0.01, 0.05, 0.1, 0.2, 0.5],\n",
    "    'clf__max_depth': [2, 5, 10],\n",
    "    'clf__colsample_bytree': [0.25, 0.5, 0.75, 1.0],\n",
    "    'clf__subsample': [0.25, 0.5, 0.75, 1.0],\n",
    "    'clf__n_estimators': [10, 20, 100, 150, 200]\n",
    "\n",
    "}\n",
    "\n",
    "n_iter_search = 300\n",
    "\n",
    "clf_output_name = './XGBoost_clf.pkl'\n",
    "xg_classifier = random_tuner(X_train , y_train, xg_pipeline, xg_parameters, n_iter_search,\n",
    "               clf_output_name, verbose=True)"
   ]
  },
  {
   "cell_type": "code",
   "execution_count": 20,
   "metadata": {},
   "outputs": [
    {
     "data": {
      "text/plain": [
       "0.8323704781467534"
      ]
     },
     "execution_count": 20,
     "metadata": {},
     "output_type": "execute_result"
    }
   ],
   "source": [
    "get_roc_auc(xg_classifier.best_estimator_, X_test, y_test)"
   ]
  },
  {
   "cell_type": "code",
   "execution_count": 21,
   "metadata": {},
   "outputs": [
    {
     "data": {
      "text/plain": [
       "VotingClassifier(estimators=[('logreg', Pipeline(memory=None,\n",
       "     steps=[('clf', LogisticRegression(C=0.1, class_weight='balanced', dual=False,\n",
       "          fit_intercept=False, intercept_scaling=1, max_iter=10000.0,\n",
       "          multi_class='ovr', n_jobs=1, penalty='l1', random_state=None,\n",
       "          solver='liblinear', ...   reg_alpha=0, reg_lambda=1, scale_pos_weight=1, seed=None,\n",
       "       silent=True, subsample=1.0))]))],\n",
       "         flatten_transform=None, n_jobs=1, voting='soft', weights=None)"
      ]
     },
     "execution_count": 21,
     "metadata": {},
     "output_type": "execute_result"
    }
   ],
   "source": [
    "from sklearn.ensemble import VotingClassifier\n",
    "eclf = VotingClassifier(estimators=[('logreg', logreg_classifier.best_estimator_),\n",
    "                                    ('rf', rf_classifier.best_estimator_),\n",
    "                                    ('xgb', xg_classifier.best_estimator_)], voting='soft')\n",
    "eclf.fit(X_train, y_train)"
   ]
  },
  {
   "cell_type": "code",
   "execution_count": 22,
   "metadata": {},
   "outputs": [
    {
     "data": {
      "text/plain": [
       "0.8514682947240291"
      ]
     },
     "execution_count": 22,
     "metadata": {},
     "output_type": "execute_result"
    }
   ],
   "source": [
    "get_roc_auc(eclf, X_test, y_test)"
   ]
  },
  {
   "cell_type": "code",
   "execution_count": 23,
   "metadata": {},
   "outputs": [
    {
     "data": {
      "text/plain": [
       "(array([ 0,  1,  2,  3,  4,  5,  6,  7,  8,  9, 10]),\n",
       " <a list of 11 Text xticklabel objects>)"
      ]
     },
     "execution_count": 23,
     "metadata": {},
     "output_type": "execute_result"
    },
    {
     "data": {
      "image/png": "[encoded data removed]",
      "text/plain": [
       "<Figure size 432x288 with 1 Axes>"
      ]
     },
     "metadata": {},
     "output_type": "display_data"
    }
   ],
   "source": [
    "importances = list(rf_classifier.best_estimator_.steps[0][1].feature_importances_)\n",
    "importance_info = list(zip(cols, importances))\n",
    "\n",
    "importance_info = sorted(importance_info, reverse=True, key=lambda feature: feature[1])\n",
    "sorted_cols = [val[0] for val in importance_info]\n",
    "sorted_importance = [val[1] for val in importance_info]\n",
    "ax = sns.barplot(x=sorted_cols, y=sorted_importance, palette=\"deep\")\n",
    "ax.axhline(0, color=\"k\", clip_on=False)\n",
    "ax.set_title('Feature Importance')\n",
    "ax.set_ylabel(\"Importance\")\n",
    "ax.set_xlabel(\"Feature\")\n",
    "plt.xticks(rotation=75)"
   ]
  },
  {
   "cell_type": "markdown",
   "metadata": {},
   "source": [
    "## Discussion\n",
    "\n",
    "We have trained a classifier to assess whether a comment will be removed or not, based on it's metadata. Through feature engineering, we have trained 3 diferrent classifiers: Logistic Regression, Random Forest, and XGBoost, via hyperparameter tuning. We have also stacked the models into a Voting Classifier. \n",
    "\n",
    "The Random Forest classifier was the most performant with an ROC AUC of 0.870, with the stacked classifier second.\n",
    "\n",
    "Looking at the feature importances above, we see that if a comment comes from a flaired user, this is likely indicative of  whether or not the comment stays or goes. Flaired users are those which have shown particular apptitude in specific areas of history, such as medievel warfare, or Oceanic region history etc. Interestingly, those that contain Reddit URLs are likely to stay, as these comments are either directing the questioner to similar questions asked previously, or directing them to the rule set for which the subreddit is run upon.\n",
    "\n",
    "Finally, the next two important features, which are intuitive, are the average word length of the post and the post length. Namely, if you use long words, and your post is long, your answer is likely well thoughtout and therefore kept.\n",
    "\n",
    "\n",
    "## Future directions\n",
    "The obvious further directions here are dealing with the class imbalances, and also looking into the correlation between the content and the question.\n",
    "\n",
    "With respect to the class imbalance, we could delve further into producing sythentic data, to rebalance the classes with SMOTE or Adasyn. This is possible as our data is mostly numeric (for which these techniques rely upon). A popular library for these operations is [Imbalanced-learn](https://imbalanced-learn.readthedocs.io/en/stable/).\n",
    "\n",
    "As for the content correlation, here we can employ different metrics, based on content similarity, to assess how closely the answer relates to the question, and possibly mark whether or not it is substansive. These measures could come from [word/document embedding](https://radimrehurek.com/gensim/) similarity, or topic similarity from the Latent Dirihlet Allocation algorithm."
   ]
  },
  {
   "cell_type": "markdown",
   "metadata": {},
   "source": [
    "## Tricks and Tips\n",
    "\n",
    "##### Pandas parse dates\n",
    "When working with SQLite databases, pandas has a convenient feature to convert certain columns that are date-time variables, into such objects in the dataframe. One simply has to add a list of column names to the keyword ```parse_dates``` in the function, as follows:\n",
    "```python\n",
    "df = pd.read_sql_query(\"select * from Comments;\", conn, parse_dates=['CreationTime', 'LastChecked'])\n",
    "```\n",
    "In our case, we converted epoch time (integer number of seconds since a given time) to date-times.\n",
    "\n",
    "##### Pulling out feature importances from a pipeline.\n",
    "When building pipelines and hypertuning, at some point, you would like to access attributes of the classifier. In our case, we had a Random Forest classifier, and wanted to pull out the feature importance of the classifier in the pipeline. A pipeline object is a list of tuples, where the first value is the string name of the object in the second place. You can call on that lists through the ```steps``` attribute, and then find the ```feature_importances_``` from there, as such:\n",
    "```python\n",
    "    your_pipeline_classifier.best_estimator_.steps[0][1].feature_importances_\n",
    "  ```  \n",
    "##### Different test scores\n",
    "Interestingly, after we fitted our pipeline to to ```roc_auc``` metric, when calling the score function on the best estimator:\n",
    "```python\n",
    "    your_pipeline_classifier.best_estimator_.score(X_test, y_test)\n",
    "```\n",
    "This gives a different value that performing the ```roc_au```c evalution on the predictions after the classifier has made them, which we do with our ```get_roc_auc``` function. This is to do with how the scorer is made via ```RandomSearchCV```. Although all the details are not exactly clear, to be certain, we evalute the ```roc_auc metric``` externally so that we are certain of it's value.\n"
   ]
  },
  {
   "cell_type": "code",
   "execution_count": null,
   "metadata": {},
   "outputs": [],
   "source": []
  }
 ],
 "metadata": {
  "kernelspec": {
   "display_name": "Python 3",
   "language": "python",
   "name": "python3"
  },
  "language_info": {
   "codemirror_mode": {
    "name": "ipython",
    "version": 3
   },
   "file_extension": ".py",
   "mimetype": "text/x-python",
   "name": "python",
   "nbconvert_exporter": "python",
   "pygments_lexer": "ipython3",
   "version": "3.7.0"
  }
 },
 "nbformat": 4,
 "nbformat_minor": 1
}
