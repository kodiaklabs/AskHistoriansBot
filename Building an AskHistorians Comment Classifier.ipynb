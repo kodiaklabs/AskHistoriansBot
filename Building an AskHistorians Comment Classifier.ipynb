{
 "cells": [
  {
   "cell_type": "markdown",
   "metadata": {},
   "source": [
    "# Building an AskHistorians Comment Classifier\n",
    "\n",
    "The subreddit r/AskHistorians is a well moderated community where users can ask questions on historical events, and hope to receive well researched, crediable answers. The moderation of this subreddit is time consuming. In this project we hope to gather data, and build a classifier, which can ingest comments, and classify whether they are substansive or not.\n",
    "\n",
    "## Gathering the data\n",
    "\n",
    "We built a custom pipeline, where we have built a bot which monitors the r/Askhistorian subreddit for new comments. These are then checked to see if they are top level responses to questions asked, i.e., answers. If so, and are not contained in our SQLite database, they are then stored.\n",
    "\n",
    "Stored comments are checked (a)periodically to see if they have been removed. If comments are not removed after a certain length of time, we can assume that they are substansive, otherwise, they are not. This process is whereby the moderators of the subreddit handlabel data for use to build the classifier. This database of comments forms this dataset.\n",
    "\n",
    "## The classifier\n",
    "\n",
    "In this notebook we hope to capture the essence of certain comments to build a classifier described above. The dataset used to build and train the classifier, will grow daily.\n",
    "\n",
    "To train the classifier, we have to engage in a fair amount of feature engineering, which requires some domain knowledge. To give you the gist of what is happening, most questions, and answers are wide and varied, but do fall into rough groups. We assume that the correlation between the content (i.e., the words) of the answer and the solution are not the best features to classify the comments (this can/will be investigated further). Rather, from reading numerous responses, and qualitatively inspecting the dataset, we see some patterns revealing themselves, with respect to the metadata of the answers. For example, substansive comments/answers are:\n",
    "\n",
    "- long\n",
    "- use long words\n",
    "- contain many quotes\n",
    "- contain several reddit and other URLs\n",
    "- use a lot of bold and italic phrases\n",
    "- are usually by flaired users or moderators\n",
    "\n",
    "Unsubstansive comments tend not to follow these trends. Therefore, we hope to distill these patterns into features, described below.\n",
    "\n",
    "Let us begin."
   ]
  },
  {
   "cell_type": "code",
   "execution_count": 1,
   "metadata": {},
   "outputs": [],
   "source": [
    "import numpy as np\n",
    "import pandas as pd\n",
    "import sqlite3\n",
    "\n",
    "import matplotlib.pyplot as plt\n",
    "import seaborn as sns\n",
    "%matplotlib inline"
   ]
  },
  {
   "cell_type": "code",
   "execution_count": 2,
   "metadata": {},
   "outputs": [],
   "source": [
    "conn = sqlite3.connect(\"AskHistoriansComments.db\")\n",
    "df = pd.read_sql_query(\"select * from Comments;\", conn, parse_dates=['CreationTime', 'LastChecked'])\n",
    "conn.close()"
   ]
  },
  {
   "cell_type": "code",
   "execution_count": 3,
   "metadata": {},
   "outputs": [
    {
     "data": {
      "text/html": [
       "<div>\n",
       "<style scoped>\n",
       "    .dataframe tbody tr th:only-of-type {\n",
       "        vertical-align: middle;\n",
       "    }\n",
       "\n",
       "    .dataframe tbody tr th {\n",
       "        vertical-align: top;\n",
       "    }\n",
       "\n",
       "    .dataframe thead th {\n",
       "        text-align: right;\n",
       "    }\n",
       "</style>\n",
       "<table border=\"1\" class=\"dataframe\">\n",
       "  <thead>\n",
       "    <tr style=\"text-align: right;\">\n",
       "      <th></th>\n",
       "      <th>CommentID</th>\n",
       "      <th>Author</th>\n",
       "      <th>CreationTime</th>\n",
       "      <th>CommentText</th>\n",
       "      <th>CommentPerma</th>\n",
       "      <th>Removed</th>\n",
       "      <th>LastChecked</th>\n",
       "    </tr>\n",
       "  </thead>\n",
       "  <tbody>\n",
       "    <tr>\n",
       "      <th>0</th>\n",
       "      <td>dw5nx8r</td>\n",
       "      <td>cnzmur</td>\n",
       "      <td>2018-03-23 12:48:43</td>\n",
       "      <td>Well obviously it would depend on exactly how ...</td>\n",
       "      <td>/r/AskHistorians/comments/86gexs/in_ancient_co...</td>\n",
       "      <td>0</td>\n",
       "      <td>2018-09-11 09:27:54</td>\n",
       "    </tr>\n",
       "    <tr>\n",
       "      <th>1</th>\n",
       "      <td>dw5nont</td>\n",
       "      <td>starkimarki</td>\n",
       "      <td>2018-03-23 12:43:30</td>\n",
       "      <td>Henry VII had a great deal to gain by their de...</td>\n",
       "      <td>/r/AskHistorians/comments/86jdla/was_the_backl...</td>\n",
       "      <td>1</td>\n",
       "      <td>2018-04-13 10:03:01</td>\n",
       "    </tr>\n",
       "    <tr>\n",
       "      <th>2</th>\n",
       "      <td>dw5n44w</td>\n",
       "      <td>015181510</td>\n",
       "      <td>2018-03-23 12:30:41</td>\n",
       "      <td>So this has been a while, and I'm going to go ...</td>\n",
       "      <td>/r/AskHistorians/comments/843ubu/why_didnt_the...</td>\n",
       "      <td>0</td>\n",
       "      <td>2018-09-11 09:27:54</td>\n",
       "    </tr>\n",
       "    <tr>\n",
       "      <th>3</th>\n",
       "      <td>dw5mo6p</td>\n",
       "      <td>wowbuggertheinfinite</td>\n",
       "      <td>2018-03-23 12:20:20</td>\n",
       "      <td>In order to properly answer your question I wi...</td>\n",
       "      <td>/r/AskHistorians/comments/86gf4f/before_mary_i...</td>\n",
       "      <td>0</td>\n",
       "      <td>2018-09-11 09:27:55</td>\n",
       "    </tr>\n",
       "    <tr>\n",
       "      <th>4</th>\n",
       "      <td>dw5mgo0</td>\n",
       "      <td>Bernardito</td>\n",
       "      <td>2018-03-23 12:15:14</td>\n",
       "      <td>Hi there! Unfortunately, this is not an approp...</td>\n",
       "      <td>/r/AskHistorians/comments/86k4f1/if_you_got_se...</td>\n",
       "      <td>0</td>\n",
       "      <td>2018-09-11 09:27:55</td>\n",
       "    </tr>\n",
       "  </tbody>\n",
       "</table>\n",
       "</div>"
      ],
      "text/plain": [
       "  CommentID                Author        CreationTime  \\\n",
       "0   dw5nx8r                cnzmur 2018-03-23 12:48:43   \n",
       "1   dw5nont           starkimarki 2018-03-23 12:43:30   \n",
       "2   dw5n44w             015181510 2018-03-23 12:30:41   \n",
       "3   dw5mo6p  wowbuggertheinfinite 2018-03-23 12:20:20   \n",
       "4   dw5mgo0            Bernardito 2018-03-23 12:15:14   \n",
       "\n",
       "                                         CommentText  \\\n",
       "0  Well obviously it would depend on exactly how ...   \n",
       "1  Henry VII had a great deal to gain by their de...   \n",
       "2  So this has been a while, and I'm going to go ...   \n",
       "3  In order to properly answer your question I wi...   \n",
       "4  Hi there! Unfortunately, this is not an approp...   \n",
       "\n",
       "                                        CommentPerma  Removed  \\\n",
       "0  /r/AskHistorians/comments/86gexs/in_ancient_co...        0   \n",
       "1  /r/AskHistorians/comments/86jdla/was_the_backl...        1   \n",
       "2  /r/AskHistorians/comments/843ubu/why_didnt_the...        0   \n",
       "3  /r/AskHistorians/comments/86gf4f/before_mary_i...        0   \n",
       "4  /r/AskHistorians/comments/86k4f1/if_you_got_se...        0   \n",
       "\n",
       "          LastChecked  \n",
       "0 2018-09-11 09:27:54  \n",
       "1 2018-04-13 10:03:01  \n",
       "2 2018-09-11 09:27:54  \n",
       "3 2018-09-11 09:27:55  \n",
       "4 2018-09-11 09:27:55  "
      ]
     },
     "execution_count": 3,
     "metadata": {},
     "output_type": "execute_result"
    }
   ],
   "source": [
    "df.head()"
   ]
  },
  {
   "cell_type": "code",
   "execution_count": 4,
   "metadata": {},
   "outputs": [
    {
     "name": "stdout",
     "output_type": "stream",
     "text": [
      "Number of total comments in DB:  2642\n",
      "Number of usuable comments in DB:  2640\n"
     ]
    }
   ],
   "source": [
    "# dropping the rows for which Removed=-1. This sentinel value is for those comments which have not been checked upon\n",
    "# at least once.\n",
    "print('Number of total comments in DB: ', len(df.index))\n",
    "df = df[df['Removed'] != -1]\n",
    "print('Number of usuable comments in DB: ', len(df.index))"
   ]
  },
  {
   "cell_type": "code",
   "execution_count": 5,
   "metadata": {},
   "outputs": [
    {
     "name": "stdout",
     "output_type": "stream",
     "text": [
      "Removed [0: False, 1: True]\n",
      "[(0, 2434), (1, 206)]\n"
     ]
    }
   ],
   "source": [
    "from collections import Counter\n",
    "c = Counter(df.Removed.tolist())\n",
    "labels = c.most_common()\n",
    "print(\"Removed [0: False, 1: True]\")\n",
    "print(labels)"
   ]
  },
  {
   "cell_type": "code",
   "execution_count": 6,
   "metadata": {},
   "outputs": [
    {
     "data": {
      "text/plain": [
       "Text(0.5,0,'Removed [0: False, 1: True]')"
      ]
     },
     "execution_count": 6,
     "metadata": {},
     "output_type": "execute_result"
    },
    {
     "data": {
      "image/png": "[encoded data removed]",
      "text/plain": [
       "<Figure size 432x288 with 1 Axes>"
      ]
     },
     "metadata": {},
     "output_type": "display_data"
    }
   ],
   "source": [
    "# Center the data to make it diverging\n",
    "total_comments = float(len(df.index))\n",
    "x = [val[0] for val in labels]\n",
    "y = [val[1] / total_comments for val in labels]\n",
    "ax = sns.barplot(x=x, y=y, palette=\"vlag\")\n",
    "ax.axhline(0, color=\"k\", clip_on=False)\n",
    "ax.set_ylabel(\"Percentage of total comments\")\n",
    "ax.set_xlabel(\"Removed [0: False, 1: True]\")"
   ]
  },
  {
   "cell_type": "markdown",
   "metadata": {},
   "source": [
    "Here we see the classic case of an imbalanced dataset. Comments which have not been removed (label 0), are far greater in number than those which have been removed (label 1). To make sure we are accounting for the imbalance, we will use the ROC AUC metric.\n",
    "\n",
    "To evaluate the classifier we are to build, we first need to create a hold out test set."
   ]
  },
  {
   "cell_type": "code",
   "execution_count": 7,
   "metadata": {},
   "outputs": [],
   "source": [
    "# split from training and test set\n",
    "from sklearn.model_selection import train_test_split\n",
    "df_train, df_test = train_test_split(df, test_size=0.3, stratify=df.Removed, random_state=42)"
   ]
  },
  {
   "cell_type": "markdown",
   "metadata": {
    "collapsed": true
   },
   "source": [
    "## Feature Engineering of the Metadata\n",
    "Now that we have the data in the correct form, we can begin to implement our classifier, based on the text's metadata. We have gathered two main types of user from the subreddit: [Moderators](https://old.reddit.com/r/AskHistorians/about/moderators), and [flaired users](https://www.reddit.com/r/AskHistorians/wiki/flairedusers). We assume that comments from the users are less likely to be removed. Therefore, we make a binary variable for each in the data set: mod user, flaired user.\n"
   ]
  },
  {
   "cell_type": "code",
   "execution_count": 8,
   "metadata": {},
   "outputs": [],
   "source": [
    "pd.options.mode.chained_assignment = None  # default='warn'\n",
    "\n",
    "mod_list = list(pd.read_csv('mods.csv')['Mods'].values)\n",
    "flaired_list = list(pd.read_csv('Flaired.csv')['FlairedUsers'].values)\n",
    "\n",
    "def is_mod(user_name):\n",
    "    mod = 0\n",
    "    if user_name in mod_list:\n",
    "        mod = 1\n",
    "    return mod\n",
    "df_train['IsMod'] = df_train['Author'].apply(lambda x: is_mod(x))\n",
    "df_test['IsMod'] = df_test['Author'].apply(lambda x: is_mod(x))\n",
    "\n",
    "def is_flaired(user_name):\n",
    "    flaired = 0\n",
    "    if user_name in flaired_list:\n",
    "        flaired = 1\n",
    "    return flaired\n",
    "df_train['IsFlaired'] = df_train['Author'].apply(lambda x: is_flaired(x))\n",
    "df_test['IsFlaired'] = df_test['Author'].apply(lambda x: is_flaired(x))\n",
    "\n"
   ]
  },
  {
   "cell_type": "markdown",
   "metadata": {},
   "source": [
    "Here we apply futher feature engineering to the metadata of the posts, as mentioned in the introduction. These features were gained through domain knowledge, by extensively reading r/AskHistorians, and also qualitatively viewing random samples of each class once they were residing in the database."
   ]
  },
  {
   "cell_type": "code",
   "execution_count": 9,
   "metadata": {},
   "outputs": [],
   "source": [
    "from ClassifierUtils import *\n",
    "\n",
    "# Post Length\n",
    "df_train['PostLen'] = df_train['CommentText'].apply(lambda x: post_length(x))\n",
    "df_test['PostLen'] = df_test['CommentText'].apply(lambda x: post_length(x))\n",
    "\n",
    "# Number of URLs in answer\n",
    "df_train['UrlNum'] = df_train['CommentText'].apply(lambda x: url_num(x))\n",
    "df_test['UrlNum'] = df_test['CommentText'].apply(lambda x: url_num(x))\n",
    "\n",
    "# Number of Reddit URLs in answer\n",
    "df_train['RedditUrls'] = df_train['CommentText'].apply(lambda x: reddit_urls(x))\n",
    "df_test['RedditUrls'] = df_test['CommentText'].apply(lambda x: reddit_urls(x))\n",
    "\n",
    "# Number of new lines\n",
    "df_train['NewLineNum'] = df_train['CommentText'].apply(lambda x: new_lines(x))\n",
    "df_test['NewLineNum'] = df_test['CommentText'].apply(lambda x: new_lines(x))\n",
    "\n",
    "# Average word length\n",
    "df_train['AveWordLen'] = df_train['CommentText'].apply(lambda x: ave_word_len(x))\n",
    "df_test['AveWordLen'] = df_test['CommentText'].apply(lambda x: ave_word_len(x))\n",
    "\n",
    "# Median word length\n",
    "df_train['MedianWordLen'] = df_train['CommentText'].apply(lambda x: med_word_len(x))\n",
    "df_test['MedianWordLen'] = df_test['CommentText'].apply(lambda x: med_word_len(x))\n",
    "\n",
    "# Number of Bold phrases\n",
    "df_train['BoldPhrases'] = df_train['CommentText'].apply(lambda x: bold_phrases(x))\n",
    "df_test['BoldPhrases'] = df_test['CommentText'].apply(lambda x: bold_phrases(x))\n",
    "\n",
    "# Number of italic phrases\n",
    "df_train['ItalicPhrases'] = df_train['CommentText'].apply(lambda x: italic_phrases(x))\n",
    "df_test['ItalicPhrases'] = df_test['CommentText'].apply(lambda x: italic_phrases(x))\n",
    "\n",
    "# Number of quotes\n",
    "df_train['Quotes'] = df_train['CommentText'].apply(lambda x: quotes(x))\n",
    "df_test['Quotes'] = df_test['CommentText'].apply(lambda x: quotes(x))"
   ]
  },
  {
   "cell_type": "code",
   "execution_count": 10,
   "metadata": {},
   "outputs": [
    {
     "data": {
      "text/html": [
       "<div>\n",
       "<style scoped>\n",
       "    .dataframe tbody tr th:only-of-type {\n",
       "        vertical-align: middle;\n",
       "    }\n",
       "\n",
       "    .dataframe tbody tr th {\n",
       "        vertical-align: top;\n",
       "    }\n",
       "\n",
       "    .dataframe thead th {\n",
       "        text-align: right;\n",
       "    }\n",
       "</style>\n",
       "<table border=\"1\" class=\"dataframe\">\n",
       "  <thead>\n",
       "    <tr style=\"text-align: right;\">\n",
       "      <th></th>\n",
       "      <th>CommentID</th>\n",
       "      <th>Author</th>\n",
       "      <th>CreationTime</th>\n",
       "      <th>CommentText</th>\n",
       "      <th>CommentPerma</th>\n",
       "      <th>Removed</th>\n",
       "      <th>LastChecked</th>\n",
       "      <th>IsMod</th>\n",
       "      <th>IsFlaired</th>\n",
       "      <th>PostLen</th>\n",
       "      <th>UrlNum</th>\n",
       "      <th>RedditUrls</th>\n",
       "      <th>NewLineNum</th>\n",
       "      <th>AveWordLen</th>\n",
       "      <th>MedianWordLen</th>\n",
       "      <th>BoldPhrases</th>\n",
       "      <th>ItalicPhrases</th>\n",
       "      <th>Quotes</th>\n",
       "    </tr>\n",
       "  </thead>\n",
       "  <tbody>\n",
       "    <tr>\n",
       "      <th>1404</th>\n",
       "      <td>e5auq8e</td>\n",
       "      <td>Commustar</td>\n",
       "      <td>2018-09-03 03:12:43</td>\n",
       "      <td>If we are talking about the 1880s, I think it ...</td>\n",
       "      <td>/r/AskHistorians/comments/9cc8ft/would_a_briti...</td>\n",
       "      <td>0</td>\n",
       "      <td>2018-09-11 09:32:42</td>\n",
       "      <td>0</td>\n",
       "      <td>1</td>\n",
       "      <td>2419</td>\n",
       "      <td>0</td>\n",
       "      <td>0</td>\n",
       "      <td>17</td>\n",
       "      <td>5.065491</td>\n",
       "      <td>5.0</td>\n",
       "      <td>0</td>\n",
       "      <td>0</td>\n",
       "      <td>0</td>\n",
       "    </tr>\n",
       "    <tr>\n",
       "      <th>499</th>\n",
       "      <td>dx9ks78</td>\n",
       "      <td>ghostofherzl</td>\n",
       "      <td>2018-04-12 21:29:48</td>\n",
       "      <td>Part 2:\\n\\nAll of these factors were part of t...</td>\n",
       "      <td>/r/AskHistorians/comments/8bh0q9/what_was_the_...</td>\n",
       "      <td>0</td>\n",
       "      <td>2018-09-11 09:29:41</td>\n",
       "      <td>0</td>\n",
       "      <td>1</td>\n",
       "      <td>7247</td>\n",
       "      <td>0</td>\n",
       "      <td>0</td>\n",
       "      <td>10</td>\n",
       "      <td>4.961317</td>\n",
       "      <td>4.0</td>\n",
       "      <td>0</td>\n",
       "      <td>8</td>\n",
       "      <td>0</td>\n",
       "    </tr>\n",
       "    <tr>\n",
       "      <th>2210</th>\n",
       "      <td>e5poj3x</td>\n",
       "      <td>b1uepenguin</td>\n",
       "      <td>2018-09-10 08:11:40</td>\n",
       "      <td>I’m not sure I quite understand the question. ...</td>\n",
       "      <td>/r/AskHistorians/comments/9ejtl2/wasnt_the_pow...</td>\n",
       "      <td>0</td>\n",
       "      <td>2018-09-12 08:10:47</td>\n",
       "      <td>0</td>\n",
       "      <td>1</td>\n",
       "      <td>1481</td>\n",
       "      <td>0</td>\n",
       "      <td>0</td>\n",
       "      <td>6</td>\n",
       "      <td>5.340517</td>\n",
       "      <td>5.0</td>\n",
       "      <td>0</td>\n",
       "      <td>0</td>\n",
       "      <td>0</td>\n",
       "    </tr>\n",
       "    <tr>\n",
       "      <th>1553</th>\n",
       "      <td>e5chk8j</td>\n",
       "      <td>J-Force</td>\n",
       "      <td>2018-09-03 23:27:11</td>\n",
       "      <td>Are we talking about the army of a Crusade (in...</td>\n",
       "      <td>/r/AskHistorians/comments/9cnybq/what_was_the_...</td>\n",
       "      <td>0</td>\n",
       "      <td>2018-09-11 09:33:09</td>\n",
       "      <td>0</td>\n",
       "      <td>0</td>\n",
       "      <td>198</td>\n",
       "      <td>0</td>\n",
       "      <td>0</td>\n",
       "      <td>0</td>\n",
       "      <td>4.378378</td>\n",
       "      <td>4.0</td>\n",
       "      <td>0</td>\n",
       "      <td>0</td>\n",
       "      <td>0</td>\n",
       "    </tr>\n",
       "    <tr>\n",
       "      <th>2384</th>\n",
       "      <td>e5tjc1t</td>\n",
       "      <td>AncientHistory</td>\n",
       "      <td>2018-09-12 01:39:26</td>\n",
       "      <td>This is really more of a pre-history question;...</td>\n",
       "      <td>/r/AskHistorians/comments/9f3eiz/when_did_the_...</td>\n",
       "      <td>0</td>\n",
       "      <td>2018-09-13 10:04:46</td>\n",
       "      <td>1</td>\n",
       "      <td>1</td>\n",
       "      <td>94</td>\n",
       "      <td>0</td>\n",
       "      <td>0</td>\n",
       "      <td>0</td>\n",
       "      <td>5.333333</td>\n",
       "      <td>4.0</td>\n",
       "      <td>0</td>\n",
       "      <td>0</td>\n",
       "      <td>0</td>\n",
       "    </tr>\n",
       "    <tr>\n",
       "      <th>664</th>\n",
       "      <td>dxakt7g</td>\n",
       "      <td>Abrytan</td>\n",
       "      <td>2018-04-13 11:15:07</td>\n",
       "      <td>When Adolf Hitler came to power in 1933, one o...</td>\n",
       "      <td>/r/AskHistorians/comments/8bu95w/the_pope_acco...</td>\n",
       "      <td>0</td>\n",
       "      <td>2018-09-11 09:30:13</td>\n",
       "      <td>0</td>\n",
       "      <td>1</td>\n",
       "      <td>6058</td>\n",
       "      <td>3</td>\n",
       "      <td>0</td>\n",
       "      <td>20</td>\n",
       "      <td>5.348739</td>\n",
       "      <td>4.0</td>\n",
       "      <td>0</td>\n",
       "      <td>4</td>\n",
       "      <td>0</td>\n",
       "    </tr>\n",
       "    <tr>\n",
       "      <th>2141</th>\n",
       "      <td>e5kz2en</td>\n",
       "      <td>corruptrevolutionary</td>\n",
       "      <td>2018-09-07 22:32:36</td>\n",
       "      <td>What percentage of territory did Germany lose ...</td>\n",
       "      <td>/r/AskHistorians/comments/9d6v1x/short_answers...</td>\n",
       "      <td>0</td>\n",
       "      <td>2018-09-11 09:35:10</td>\n",
       "      <td>0</td>\n",
       "      <td>0</td>\n",
       "      <td>76</td>\n",
       "      <td>0</td>\n",
       "      <td>0</td>\n",
       "      <td>0</td>\n",
       "      <td>4.923077</td>\n",
       "      <td>4.0</td>\n",
       "      <td>0</td>\n",
       "      <td>0</td>\n",
       "      <td>0</td>\n",
       "    </tr>\n",
       "    <tr>\n",
       "      <th>1998</th>\n",
       "      <td>e5nqbx6</td>\n",
       "      <td>Tatem1961</td>\n",
       "      <td>2018-09-09 10:55:31</td>\n",
       "      <td>Does anybody know about the naval history of C...</td>\n",
       "      <td>/r/AskHistorians/comments/9e46y3/panel_ama_sai...</td>\n",
       "      <td>0</td>\n",
       "      <td>2018-09-11 09:34:37</td>\n",
       "      <td>0</td>\n",
       "      <td>0</td>\n",
       "      <td>172</td>\n",
       "      <td>0</td>\n",
       "      <td>0</td>\n",
       "      <td>0</td>\n",
       "      <td>5.142857</td>\n",
       "      <td>5.0</td>\n",
       "      <td>0</td>\n",
       "      <td>0</td>\n",
       "      <td>0</td>\n",
       "    </tr>\n",
       "    <tr>\n",
       "      <th>1365</th>\n",
       "      <td>e55u47z</td>\n",
       "      <td>GeneralLeeBlount</td>\n",
       "      <td>2018-08-31 15:48:39</td>\n",
       "      <td>Kinda meant to post this yesterday but being b...</td>\n",
       "      <td>/r/AskHistorians/comments/9btw2g/friday_freefo...</td>\n",
       "      <td>0</td>\n",
       "      <td>2018-09-11 09:32:35</td>\n",
       "      <td>0</td>\n",
       "      <td>0</td>\n",
       "      <td>1233</td>\n",
       "      <td>0</td>\n",
       "      <td>0</td>\n",
       "      <td>10</td>\n",
       "      <td>4.680556</td>\n",
       "      <td>4.0</td>\n",
       "      <td>0</td>\n",
       "      <td>0</td>\n",
       "      <td>0</td>\n",
       "    </tr>\n",
       "    <tr>\n",
       "      <th>591</th>\n",
       "      <td>dx9suf1</td>\n",
       "      <td>erissays</td>\n",
       "      <td>2018-04-12 23:45:14</td>\n",
       "      <td>Thank you so much for the votes, everyone! Con...</td>\n",
       "      <td>/r/AskHistorians/comments/8b8wyx/announcing_th...</td>\n",
       "      <td>0</td>\n",
       "      <td>2018-09-11 09:29:58</td>\n",
       "      <td>0</td>\n",
       "      <td>1</td>\n",
       "      <td>82</td>\n",
       "      <td>0</td>\n",
       "      <td>0</td>\n",
       "      <td>0</td>\n",
       "      <td>4.187500</td>\n",
       "      <td>3.0</td>\n",
       "      <td>0</td>\n",
       "      <td>0</td>\n",
       "      <td>0</td>\n",
       "    </tr>\n",
       "  </tbody>\n",
       "</table>\n",
       "</div>"
      ],
      "text/plain": [
       "     CommentID                Author        CreationTime  \\\n",
       "1404   e5auq8e             Commustar 2018-09-03 03:12:43   \n",
       "499    dx9ks78          ghostofherzl 2018-04-12 21:29:48   \n",
       "2210   e5poj3x           b1uepenguin 2018-09-10 08:11:40   \n",
       "1553   e5chk8j               J-Force 2018-09-03 23:27:11   \n",
       "2384   e5tjc1t        AncientHistory 2018-09-12 01:39:26   \n",
       "664    dxakt7g               Abrytan 2018-04-13 11:15:07   \n",
       "2141   e5kz2en  corruptrevolutionary 2018-09-07 22:32:36   \n",
       "1998   e5nqbx6             Tatem1961 2018-09-09 10:55:31   \n",
       "1365   e55u47z      GeneralLeeBlount 2018-08-31 15:48:39   \n",
       "591    dx9suf1              erissays 2018-04-12 23:45:14   \n",
       "\n",
       "                                            CommentText  \\\n",
       "1404  If we are talking about the 1880s, I think it ...   \n",
       "499   Part 2:\\n\\nAll of these factors were part of t...   \n",
       "2210  I’m not sure I quite understand the question. ...   \n",
       "1553  Are we talking about the army of a Crusade (in...   \n",
       "2384  This is really more of a pre-history question;...   \n",
       "664   When Adolf Hitler came to power in 1933, one o...   \n",
       "2141  What percentage of territory did Germany lose ...   \n",
       "1998  Does anybody know about the naval history of C...   \n",
       "1365  Kinda meant to post this yesterday but being b...   \n",
       "591   Thank you so much for the votes, everyone! Con...   \n",
       "\n",
       "                                           CommentPerma  Removed  \\\n",
       "1404  /r/AskHistorians/comments/9cc8ft/would_a_briti...        0   \n",
       "499   /r/AskHistorians/comments/8bh0q9/what_was_the_...        0   \n",
       "2210  /r/AskHistorians/comments/9ejtl2/wasnt_the_pow...        0   \n",
       "1553  /r/AskHistorians/comments/9cnybq/what_was_the_...        0   \n",
       "2384  /r/AskHistorians/comments/9f3eiz/when_did_the_...        0   \n",
       "664   /r/AskHistorians/comments/8bu95w/the_pope_acco...        0   \n",
       "2141  /r/AskHistorians/comments/9d6v1x/short_answers...        0   \n",
       "1998  /r/AskHistorians/comments/9e46y3/panel_ama_sai...        0   \n",
       "1365  /r/AskHistorians/comments/9btw2g/friday_freefo...        0   \n",
       "591   /r/AskHistorians/comments/8b8wyx/announcing_th...        0   \n",
       "\n",
       "             LastChecked  IsMod  IsFlaired  PostLen  UrlNum  RedditUrls  \\\n",
       "1404 2018-09-11 09:32:42      0          1     2419       0           0   \n",
       "499  2018-09-11 09:29:41      0          1     7247       0           0   \n",
       "2210 2018-09-12 08:10:47      0          1     1481       0           0   \n",
       "1553 2018-09-11 09:33:09      0          0      198       0           0   \n",
       "2384 2018-09-13 10:04:46      1          1       94       0           0   \n",
       "664  2018-09-11 09:30:13      0          1     6058       3           0   \n",
       "2141 2018-09-11 09:35:10      0          0       76       0           0   \n",
       "1998 2018-09-11 09:34:37      0          0      172       0           0   \n",
       "1365 2018-09-11 09:32:35      0          0     1233       0           0   \n",
       "591  2018-09-11 09:29:58      0          1       82       0           0   \n",
       "\n",
       "      NewLineNum  AveWordLen  MedianWordLen  BoldPhrases  ItalicPhrases  \\\n",
       "1404          17    5.065491            5.0            0              0   \n",
       "499           10    4.961317            4.0            0              8   \n",
       "2210           6    5.340517            5.0            0              0   \n",
       "1553           0    4.378378            4.0            0              0   \n",
       "2384           0    5.333333            4.0            0              0   \n",
       "664           20    5.348739            4.0            0              4   \n",
       "2141           0    4.923077            4.0            0              0   \n",
       "1998           0    5.142857            5.0            0              0   \n",
       "1365          10    4.680556            4.0            0              0   \n",
       "591            0    4.187500            3.0            0              0   \n",
       "\n",
       "      Quotes  \n",
       "1404       0  \n",
       "499        0  \n",
       "2210       0  \n",
       "1553       0  \n",
       "2384       0  \n",
       "664        0  \n",
       "2141       0  \n",
       "1998       0  \n",
       "1365       0  \n",
       "591        0  "
      ]
     },
     "execution_count": 10,
     "metadata": {},
     "output_type": "execute_result"
    }
   ],
   "source": [
    "df_train.head(10)"
   ]
  },
  {
   "cell_type": "code",
   "execution_count": 11,
   "metadata": {},
   "outputs": [],
   "source": [
    "# Here we select out the metadata features for our classifier to leverage\n",
    "cols = ['IsMod', 'IsFlaired', 'PostLen', 'UrlNum', 'RedditUrls', 'NewLineNum', 'AveWordLen', 'MedianWordLen', 'BoldPhrases',\n",
    "        'ItalicPhrases', 'Quotes']\n",
    "X_train = df_train[cols].values\n",
    "y_train = df_train['Removed'].values"
   ]
  },
  {
   "cell_type": "markdown",
   "metadata": {},
   "source": [
    "## Hypertuning and Fitting Various Classifiers"
   ]
  },
  {
   "cell_type": "code",
   "execution_count": 12,
   "metadata": {},
   "outputs": [],
   "source": [
    "from sklearn.pipeline import Pipeline\n",
    "from sklearn.externals import joblib\n",
    "from sklearn.model_selection import RandomizedSearchCV\n",
    "import time\n",
    "\n",
    "def random_tuner(X, y, pipeline, parameters, n_iter_search, clf_output_name, verbose=True):\n",
    "    \"\"\"\n",
    "    Takes in training data along with a pipeline (including a classifier).\n",
    "    Hypertunes the classifier via random parameter space search, trying n_iter_search\n",
    "    parameter combinations.\n",
    "    \"\"\"\n",
    "    classifier = RandomizedSearchCV(pipeline, param_distributions=parameters,\n",
    "                                    n_jobs=-1, cv=5, n_iter=n_iter_search, verbose=1, scoring='roc_auc')\n",
    "    classifier.fit(X, y)\n",
    "    if verbose:\n",
    "        print(\"Best score: %0.3f\" % classifier.best_score_)\n",
    "        print(\"Best parameters set:\")\n",
    "        classifier_best_parameters = classifier.best_estimator_.get_params()\n",
    "        for param_name in sorted(parameters.keys()):\n",
    "            print(\"\\t%s: %r\" % (param_name, classifier_best_parameters[param_name]))\n",
    "\n",
    "    joblib.dump(classifier.best_estimator_, clf_output_name, compress=9)\n",
    "    print('Classifier saved to: ', clf_output_name)\n",
    "    return classifier"
   ]
  },
  {
   "cell_type": "code",
   "execution_count": 13,
   "metadata": {},
   "outputs": [
    {
     "name": "stdout",
     "output_type": "stream",
     "text": [
      "Fitting 5 folds for each of 96 candidates, totalling 480 fits\n",
      "Best score: 0.782\n",
      "Best parameters set:\n",
      "\tclf__C: 1.0\n",
      "\tclf__class_weight: None\n",
      "\tclf__fit_intercept: False\n",
      "\tclf__penalty: 'l1'\n",
      "\tclf__warm_start: False\n",
      "Classifier saved to:  ./LogReg_clf.pkl\n"
     ]
    },
    {
     "name": "stderr",
     "output_type": "stream",
     "text": [
      "[Parallel(n_jobs=-1)]: Done 480 out of 480 | elapsed:    1.9s finished\n"
     ]
    }
   ],
   "source": [
    "from sklearn.linear_model import LogisticRegression\n",
    "\n",
    "logreg_pipeline = Pipeline([\n",
    "        ('clf', LogisticRegression(max_iter=1e4))\n",
    "    ])\n",
    "\n",
    "logreg_parameters = {\n",
    "    'clf__penalty': ('l2', 'l1'),\n",
    "    'clf__class_weight': (None, 'balanced'),\n",
    "    'clf__C': (1e-3, 1e-2, 0.1, 1.0, 10.0, 100.0),\n",
    "    'clf__warm_start': (True, False),\n",
    "    'clf__fit_intercept': (True, False)\n",
    "}\n",
    "\n",
    "n_iter_search = 96\n",
    "\n",
    "clf_output_name = './LogReg_clf.pkl'\n",
    "logreg_classifier = random_tuner(X_train , y_train, logreg_pipeline, logreg_parameters, n_iter_search,\n",
    "               clf_output_name, verbose=True)"
   ]
  },
  {
   "cell_type": "code",
   "execution_count": 14,
   "metadata": {},
   "outputs": [],
   "source": [
    "X_test = df_train[cols].values\n",
    "y_test = df_train['Removed'].values"
   ]
  },
  {
   "cell_type": "code",
   "execution_count": 15,
   "metadata": {},
   "outputs": [],
   "source": [
    "from sklearn.metrics import roc_auc_score\n",
    "\n",
    "def get_roc_auc(clf, X_test, y_test):\n",
    "    y_preds = [val[1] for val in clf.predict_proba(X_test)]\n",
    "    return roc_auc_score(y_test, y_preds)"
   ]
  },
  {
   "cell_type": "code",
   "execution_count": 16,
   "metadata": {},
   "outputs": [
    {
     "data": {
      "text/plain": [
       "0.793775674882629"
      ]
     },
     "execution_count": 16,
     "metadata": {},
     "output_type": "execute_result"
    }
   ],
   "source": [
    "get_roc_auc(logreg_classifier.best_estimator_, X_test, y_test)"
   ]
  },
  {
   "cell_type": "code",
   "execution_count": 17,
   "metadata": {},
   "outputs": [
    {
     "name": "stderr",
     "output_type": "stream",
     "text": [
      "/usr/local/lib/python3.7/site-packages/sklearn/ensemble/weight_boosting.py:29: DeprecationWarning: numpy.core.umath_tests is an internal NumPy module and should not be imported. It will be removed in a future NumPy release.\n",
      "  from numpy.core.umath_tests import inner1d\n"
     ]
    },
    {
     "name": "stdout",
     "output_type": "stream",
     "text": [
      "Fitting 5 folds for each of 160 candidates, totalling 800 fits\n"
     ]
    },
    {
     "name": "stderr",
     "output_type": "stream",
     "text": [
      "[Parallel(n_jobs=-1)]: Done 121 tasks      | elapsed:    9.7s\n",
      "[Parallel(n_jobs=-1)]: Done 271 tasks      | elapsed:   23.5s\n",
      "[Parallel(n_jobs=-1)]: Done 521 tasks      | elapsed:   47.7s\n",
      "[Parallel(n_jobs=-1)]: Done 800 out of 800 | elapsed:  1.3min finished\n"
     ]
    },
    {
     "name": "stdout",
     "output_type": "stream",
     "text": [
      "Best score: 0.792\n",
      "Best parameters set:\n",
      "\tclf__class_weight: 'balanced'\n",
      "\tclf__max_depth: 5\n",
      "\tclf__max_features: 'log2'\n",
      "\tclf__n_estimators: 100\n",
      "Classifier saved to:  ./RandForest_clf.pkl\n"
     ]
    }
   ],
   "source": [
    "from sklearn.ensemble import RandomForestClassifier\n",
    "\n",
    "rf_pipeline = Pipeline([\n",
    "        ('clf', RandomForestClassifier())\n",
    "    ])\n",
    "\n",
    "rf_parameters = {\n",
    "    'clf__max_depth': [2, 5, 10, None],\n",
    "    'clf__n_estimators': [10, 20, 100, 150, 200],\n",
    "    'clf__max_features': [None, 'auto', 'sqrt', 'log2'],\n",
    "    'clf__class_weight': [None, 'balanced']\n",
    "}\n",
    "\n",
    "n_iter_search = 160\n",
    "\n",
    "clf_output_name = './RandForest_clf.pkl'\n",
    "rf_classifier = random_tuner(X_train , y_train, rf_pipeline, rf_parameters, n_iter_search,\n",
    "               clf_output_name, verbose=True)\n"
   ]
  },
  {
   "cell_type": "code",
   "execution_count": 18,
   "metadata": {},
   "outputs": [
    {
     "data": {
      "text/plain": [
       "0.8570438836724049"
      ]
     },
     "execution_count": 18,
     "metadata": {},
     "output_type": "execute_result"
    }
   ],
   "source": [
    "get_roc_auc(rf_classifier.best_estimator_, X_test, y_test)"
   ]
  },
  {
   "cell_type": "code",
   "execution_count": 19,
   "metadata": {},
   "outputs": [
    {
     "name": "stdout",
     "output_type": "stream",
     "text": [
      "Fitting 5 folds for each of 300 candidates, totalling 1500 fits\n"
     ]
    },
    {
     "name": "stderr",
     "output_type": "stream",
     "text": [
      "[Parallel(n_jobs=-1)]: Done  76 tasks      | elapsed:    3.0s\n",
      "[Parallel(n_jobs=-1)]: Done 444 tasks      | elapsed:   13.1s\n",
      "[Parallel(n_jobs=-1)]: Done 1444 tasks      | elapsed:   46.6s\n"
     ]
    },
    {
     "name": "stdout",
     "output_type": "stream",
     "text": [
      "Best score: 0.796\n",
      "Best parameters set:\n",
      "\tclf__colsample_bytree: 1.0\n",
      "\tclf__learning_rate: 0.2\n",
      "\tclf__max_depth: 2\n",
      "\tclf__n_estimators: 20\n",
      "\tclf__subsample: 0.5\n",
      "Classifier saved to:  ./XGBoost_clf.pkl\n"
     ]
    },
    {
     "name": "stderr",
     "output_type": "stream",
     "text": [
      "[Parallel(n_jobs=-1)]: Done 1500 out of 1500 | elapsed:   49.4s finished\n"
     ]
    }
   ],
   "source": [
    "from xgboost import XGBClassifier\n",
    "xg_pipeline = Pipeline([\n",
    "        ('clf', XGBClassifier())\n",
    "    ])\n",
    "\n",
    "xg_parameters = {\n",
    "    'clf__learning_rate': [0.001, 0.01, 0.05, 0.1, 0.2, 0.5],\n",
    "    'clf__max_depth': [2, 5, 10],\n",
    "    'clf__colsample_bytree': [0.25, 0.5, 0.75, 1.0],\n",
    "    'clf__subsample': [0.25, 0.5, 0.75, 1.0],\n",
    "    'clf__n_estimators': [10, 20, 100, 150, 200]\n",
    "\n",
    "}\n",
    "\n",
    "n_iter_search = 300\n",
    "\n",
    "clf_output_name = './XGBoost_clf.pkl'\n",
    "xg_classifier = random_tuner(X_train , y_train, xg_pipeline, xg_parameters, n_iter_search,\n",
    "               clf_output_name, verbose=True)"
   ]
  },
  {
   "cell_type": "code",
   "execution_count": 20,
   "metadata": {},
   "outputs": [
    {
     "data": {
      "text/plain": [
       "0.8305192846896192"
      ]
     },
     "execution_count": 20,
     "metadata": {},
     "output_type": "execute_result"
    }
   ],
   "source": [
    "get_roc_auc(xg_classifier.best_estimator_, X_test, y_test)"
   ]
  },
  {
   "cell_type": "code",
   "execution_count": 21,
   "metadata": {},
   "outputs": [
    {
     "data": {
      "text/plain": [
       "VotingClassifier(estimators=[('logreg', Pipeline(memory=None,\n",
       "     steps=[('clf', LogisticRegression(C=1.0, class_weight=None, dual=False, fit_intercept=False,\n",
       "          intercept_scaling=1, max_iter=10000.0, multi_class='ovr',\n",
       "          n_jobs=1, penalty='l1', random_state=None, solver='liblinear',\n",
       "          tol=0....   reg_alpha=0, reg_lambda=1, scale_pos_weight=1, seed=None,\n",
       "       silent=True, subsample=0.5))]))],\n",
       "         flatten_transform=None, n_jobs=1, voting='soft', weights=None)"
      ]
     },
     "execution_count": 21,
     "metadata": {},
     "output_type": "execute_result"
    }
   ],
   "source": [
    "from sklearn.ensemble import VotingClassifier\n",
    "eclf = VotingClassifier(estimators=[('logreg', logreg_classifier.best_estimator_),\n",
    "                                    ('rf', rf_classifier.best_estimator_),\n",
    "                                    ('xgb', xg_classifier.best_estimator_)], voting='soft')\n",
    "eclf.fit(X_train, y_train)"
   ]
  },
  {
   "cell_type": "code",
   "execution_count": 22,
   "metadata": {},
   "outputs": [
    {
     "data": {
      "text/plain": [
       "0.8379813021648409"
      ]
     },
     "execution_count": 22,
     "metadata": {},
     "output_type": "execute_result"
    }
   ],
   "source": [
    "get_roc_auc(eclf, X_test, y_test)"
   ]
  },
  {
   "cell_type": "code",
   "execution_count": 23,
   "metadata": {},
   "outputs": [
    {
     "data": {
      "text/plain": [
       "(array([ 0,  1,  2,  3,  4,  5,  6,  7,  8,  9, 10]),\n",
       " <a list of 11 Text xticklabel objects>)"
      ]
     },
     "execution_count": 23,
     "metadata": {},
     "output_type": "execute_result"
    },
    {
     "data": {
      "image/png": "[encoded data removed]",
      "text/plain": [
       "<Figure size 432x288 with 1 Axes>"
      ]
     },
     "metadata": {},
     "output_type": "display_data"
    }
   ],
   "source": [
    "importances = list(rf_classifier.best_estimator_.steps[0][1].feature_importances_)\n",
    "importance_info = list(zip(cols, importances))\n",
    "\n",
    "importance_info = sorted(importance_info, reverse=True, key=lambda feature: feature[1])\n",
    "sorted_cols = [val[0] for val in importance_info]\n",
    "sorted_importance = [val[1] for val in importance_info]\n",
    "ax = sns.barplot(x=sorted_cols, y=sorted_importance, palette=\"deep\")\n",
    "ax.axhline(0, color=\"k\", clip_on=False)\n",
    "ax.set_title('Feature Importance')\n",
    "ax.set_ylabel(\"Importance\")\n",
    "ax.set_xlabel(\"Feature\")\n",
    "plt.xticks(rotation=75)"
   ]
  },
  {
   "cell_type": "markdown",
   "metadata": {},
   "source": [
    "## Discussion\n",
    "\n",
    "We have trained a classifier to assess whether a comment will be removed or not, based on it's metadata. Through feature engineering, we have trained 3 diferrent classifiers: Logistic Regression, Random Forest, and XGBoost, via hyperparameter tuning. We have also stacked the models into a Voting Classifier. \n",
    "\n",
    "The Random Forest classifier was the most performant with an ROC AUC of 0.857, with the stacked classifier second.\n",
    "\n",
    "Looking at the feature importances above, we see that if a comment comes from a flaired user, this is likely indicative of  whether or not the comment stays or goes. Flaired users are those which have shown particular apptitude in specific areas of history, such as medievel warfare, or Oceanic region history etc. Interestingly, those that contain Reddit URLs are likely to stay, as these comments are either directing the questioner to similar questions asked previously, or directing them to the rule set for which the subreddit is run upon.\n",
    "\n",
    "Finally, the next two important features, which are intuitive, are the average word length of the post and the post length. Namely, if you use long words, and your post is long, your answer is likely well thoughtout and therefore kept.\n",
    "\n",
    "\n",
    "## Future directions\n",
    "The obvious further directions here are dealing with the class imbalances, and also looking into the correlation between the content and the question.\n",
    "\n",
    "With respect to the class imbalance, we could delve further into producing sythentic data, to rebalance the classes with SMOTE or Adasyn. This is possible as our data is mostly numeric (for which these techniques rely upon). A popular library for these operations is [Imbalanced-learn](https://imbalanced-learn.readthedocs.io/en/stable/).\n",
    "\n",
    "As for the content correlation, here we can employ different metrics, based on content similarity, to assess how closely the answer relates to the question, and possibly mark whether or not it is substansive. These measures could come from [word/document embedding](https://radimrehurek.com/gensim/) similarity, or topic similarity from the Latent Dirihlet Allocation algorithm."
   ]
  },
  {
   "cell_type": "markdown",
   "metadata": {},
   "source": [
    "## Tricks and Tips\n",
    "\n",
    "##### Pandas parse dates\n",
    "When working with SQLite databases, pandas has a convenient feature to convert certain columns that are date-time variables, into such objects in the dataframe. One simply has to add a list of column names to the keyword ```parse_dates``` in the function, as follows:\n",
    "```python\n",
    "df = pd.read_sql_query(\"select * from Comments;\", conn, parse_dates=['CreationTime', 'LastChecked'])\n",
    "```\n",
    "In our case, we converted epoch time (integer number of seconds since a given time) to date-times.\n",
    "\n",
    "##### Pulling out feature importances from a pipeline.\n",
    "When building pipelines and hypertuning, at some point, you would like to access attributes of the classifier. In our case, we had a Random Forest classifier, and wanted to pull out the feature importance of the classifier in the pipeline. A pipeline object is a list of tuples, where the first value is the string name of the object in the second place. You can call on that lists through the ```steps``` attribute, and then find the ```feature_importances_``` from there, as such:\n",
    "```python\n",
    "    your_pipeline_classifier.best_estimator_.steps[0][1].feature_importances_\n",
    "  ```\n",
    "Note that our classifier/estimator was the first 'step' in our pipeline, hence the 0 index. If, for example you have earlier transformations before your classifier, this number will change (e.g., in the case of doing NLP classification where you use TFID before classifying.\n",
    "\n",
    "##### Different test scores\n",
    "Interestingly, after we fitted our pipeline to to ```roc_auc``` metric, when calling the score function on the best estimator:\n",
    "```python\n",
    "    your_pipeline_classifier.best_estimator_.score(X_test, y_test)\n",
    "```\n",
    "This gives a different value that performing the ```roc_au```c evalution on the predictions after the classifier has made them, which we do with our ```get_roc_auc``` function. This is to do with how the scorer is made via ```RandomSearchCV```. Although all the details are not exactly clear, to be certain, we evalute the ```roc_auc metric``` externally so that we are certain of it's value.\n"
   ]
  },
  {
   "cell_type": "code",
   "execution_count": null,
   "metadata": {},
   "outputs": [],
   "source": []
  }
 ],
 "metadata": {
  "kernelspec": {
   "display_name": "Python 3",
   "language": "python",
   "name": "python3"
  },
  "language_info": {
   "codemirror_mode": {
    "name": "ipython",
    "version": 3
   },
   "file_extension": ".py",
   "mimetype": "text/x-python",
   "name": "python",
   "nbconvert_exporter": "python",
   "pygments_lexer": "ipython3",
   "version": "3.7.0"
  }
 },
 "nbformat": 4,
 "nbformat_minor": 1
}
